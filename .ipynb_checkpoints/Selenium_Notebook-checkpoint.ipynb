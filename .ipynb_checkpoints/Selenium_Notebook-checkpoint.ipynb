{
 "cells": [
  {
   "cell_type": "markdown",
   "id": "b2582c40-4bbb-48d1-aecc-72e41ecf54c6",
   "metadata": {},
   "source": [
    "## Part 1: Setup"
   ]
  },
  {
   "cell_type": "code",
   "execution_count": 2,
   "id": "a01cba2a-2d96-4a2e-87ff-4a69761a79d5",
   "metadata": {},
   "outputs": [],
   "source": [
    "# Tutorial 1: Setup\n",
    "from selenium import webdriver as wd"
   ]
  },
  {
   "cell_type": "code",
   "execution_count": 5,
   "id": "656f6b41-0611-4dcc-97be-28ef46656b96",
   "metadata": {},
   "outputs": [],
   "source": [
    "# Obtain path and driver from library\n",
    "# Opens a new webpage that is controlled \n",
    "driver = wd.Safari()\n",
    "driver.get('https://wildcherrybazzaire.github.io/button-clicker-game/')"
   ]
  },
  {
   "cell_type": "code",
   "execution_count": 7,
   "id": "b98d47f4-8827-4b8f-9b88-3c1aac39383f",
   "metadata": {},
   "outputs": [
    {
     "name": "stdout",
     "output_type": "stream",
     "text": [
      "My Playlist\n"
     ]
    }
   ],
   "source": [
    "print(driver.title)"
   ]
  },
  {
   "cell_type": "code",
   "execution_count": 16,
   "id": "c10f089b-5526-46be-9f9c-27d0549a0327",
   "metadata": {},
   "outputs": [],
   "source": [
    "# Closes the webpage\n",
    "driver.close()\n",
    "# driver.quit() <---- Closes the browser"
   ]
  },
  {
   "cell_type": "markdown",
   "id": "91489d3a-ad0a-4a4e-91ce-933d210ff581",
   "metadata": {},
   "source": [
    "## Part 2: Interacting with the webpage"
   ]
  },
  {
   "cell_type": "code",
   "execution_count": 3,
   "id": "988cdff9-9ba8-44c1-8d68-56f4f471b364",
   "metadata": {},
   "outputs": [],
   "source": [
    "from selenium.webdriver.common.by import By\n",
    "from selenium.webdriver.common.keys import Keys\n",
    "\n",
    "import time"
   ]
  },
  {
   "cell_type": "code",
   "execution_count": 5,
   "id": "009400d7-90e9-4522-abb2-ee5e74acab55",
   "metadata": {},
   "outputs": [],
   "source": [
    "driver = wd.Safari()\n",
    "driver.get('https://wildcherrybazzaire.github.io/button-clicker-game/')"
   ]
  },
  {
   "cell_type": "code",
   "execution_count": 11,
   "id": "a3f040a4-3f48-4ee0-b240-162518ca37a3",
   "metadata": {},
   "outputs": [],
   "source": [
    "button = driver.find_element(By.ID, value='scoreButton')\n",
    "\n",
    "for i in range(20):\n",
    "    button.click() # <--- Clicks the button every one second\n",
    "    time.sleep(0.5)\n",
    "\n",
    "time.sleep(5)\n",
    "\n",
    "driver.close()"
   ]
  },
  {
   "cell_type": "markdown",
   "id": "1b6c4ce5-e3a6-4eaf-a185-0c6177a20d9c",
   "metadata": {},
   "source": [
    "**Get Entire page source**"
   ]
  },
  {
   "cell_type": "code",
   "execution_count": 7,
   "id": "8de02535-caa4-4646-af43-a2cd7eb5b3cc",
   "metadata": {
    "scrolled": true
   },
   "outputs": [
    {
     "name": "stdout",
     "output_type": "stream",
     "text": [
      "<html><head>\n",
      "    <title> Button Clicker </title>\n",
      "    <link rel=\"stylesheet\" type=\"text/css\" href=\"styles.css\">\n",
      "    <link href=\"https://fonts.googleapis.com/css?family=Encode+Sans+Condensed\" rel=\"stylesheet\">\n",
      "</head>\n",
      "\n",
      "<body>\n",
      "\n",
      "    <div id=\"scoreBox\">\n",
      "\n",
      "        <p id=\"scoreText\">0</p>\n",
      "\n",
      "    </div>\n",
      "\n",
      "    <div id=\"MainDiv\">\n",
      "\n",
      "        <div id=\"scoreButton\">\n",
      "\n",
      "            <p> Increment Me DADDY! </p>\n",
      "            <p>+1</p>\n",
      "        </div>\n",
      "\n",
      "        <div id=\"surpriseBox\">\n",
      "            <p id=\"surpriseTitle\"> Surprise text for everything divisble by ten</p>\n",
      "\n",
      "            <div id=\"surpriseContainer\">\n",
      "\n",
      "            </div>\n",
      "        </div>\n",
      "\n",
      "        <div id=\"resetButton\">\n",
      "            <p>reset</p>\n",
      "        </div>\n",
      "\n",
      "        <div id=\"resetSure\">\n",
      "            <p> Are You Sure You Want To Reset?</p>\n",
      "            <button onclick=\"Reset()\" id=\"marginEdit\"> Yes </button>\n",
      "            <button onclick=\"NoReset()\"> NO </button>\n",
      "        </div>\n",
      "\n",
      "    </div>\n",
      "    \n",
      "    <audio controls=\"\" id=\"hidden_sounds1\"> <!-- for audio -->\n",
      "        <source src=\"Secret/woomy.mp3\" type=\"audio/mpeg\">\n",
      "      Your browser does not support the audio element.\n",
      "    \n",
      "    </audio>\n",
      "\n",
      "    <audio controls=\"\" id=\"hidden_sounds2\"> <!-- for audio -->\n",
      "        <source src=\"Secret/veemo.mp3\" type=\"audio/mpeg\">\n",
      "      Your browser does not support the audio element.\n",
      "    \n",
      "    </audio>\n",
      "\n",
      "    <script src=\"app.js\"></script>\n",
      "\n",
      "\n",
      "</body></html>\n"
     ]
    }
   ],
   "source": [
    "print(driver.page_source)"
   ]
  },
  {
   "cell_type": "markdown",
   "id": "e7ac1304-7577-4671-9196-000d2c757a80",
   "metadata": {},
   "source": [
    "**Obtain elements within a container**"
   ]
  },
  {
   "cell_type": "code",
   "execution_count": 11,
   "id": "b938d0c2-7631-4e66-afa8-6a7da074401b",
   "metadata": {},
   "outputs": [
    {
     "name": "stdout",
     "output_type": "stream",
     "text": [
      "\n",
      "             Are You Sure You Want To Reset?\n",
      "             Yes \n",
      "             NO \n",
      "        \n"
     ]
    }
   ],
   "source": [
    "reset = driver.find_element(By.ID, value='resetSure')\n",
    "print(reset.text)"
   ]
  },
  {
   "cell_type": "markdown",
   "id": "53781d3b-b55f-47ad-8c80-82879c5bbe67",
   "metadata": {},
   "source": [
    "### Additional Part 2 material: Async data"
   ]
  },
  {
   "cell_type": "code",
   "execution_count": 31,
   "id": "4342dcb4-e6ca-4c5c-a3d7-7a6dd75a5bc9",
   "metadata": {},
   "outputs": [],
   "source": [
    "# Imports from selenium for keys, getting things with 'by', and async wait\n",
    "from selenium.webdriver.common.keys import Keys\n",
    "from selenium.webdriver.common.by import By\n",
    "from selenium.webdriver.support.ui import WebDriverWait\n",
    "from selenium.webdriver.support import expected_conditions as EC\n",
    "import time\n",
    "import traceback\n",
    "import pandas as pd\n",
    "import os"
   ]
  },
  {
   "cell_type": "code",
   "execution_count": 33,
   "id": "63a76f80-c04f-45f0-9ec6-a82b54f60a3a",
   "metadata": {},
   "outputs": [
    {
     "name": "stdout",
     "output_type": "stream",
     "text": [
      "Historical Forex and Crypto Data\n"
     ]
    }
   ],
   "source": [
    "# Obtain driver and sanity check\n",
    "driver = wd.Safari()\n",
    "driver.get('https://data.forexsb.com/data-app')\n",
    "\n",
    "print(driver.title)"
   ]
  },
  {
   "cell_type": "markdown",
   "id": "678a4065-5358-4178-9371-31361113e886",
   "metadata": {},
   "source": [
    "#### 1. Obtaining all the forex options\n",
    "**You can work on selecting the other options later**"
   ]
  },
  {
   "cell_type": "code",
   "execution_count": 36,
   "id": "88591842-a73c-461b-9eee-dea8f59ff7f1",
   "metadata": {},
   "outputs": [
    {
     "name": "stdout",
     "output_type": "stream",
     "text": [
      "────── FX Major ──────EURUSD - Euro / US DollarGBPUSD - British Pound / US DollarUSDCAD - US Dollar / Canadian DollarUSDCHF - US Dollar / Swiss FrancUSDJPY - US Dollar / Japanese Yen────── FX Minor ──────AUDCAD - Australian Dollar / Canadian DollarAUDCHF - Australian Dollar / Swiss FrankAUDJPY - Australian Dollar / Japanese YenAUDNZD - Australian Dollar / New Zealand DollarAUDUSD - Australian Dollar / US DollarCADCHF - Canadian Dollar /Swiss FrancCADJPY - Canadian Dollar / Japanese YenCHFJPY - Swiss Franc / Japanese YenEURAUD - Euro / Australian DollarEURCAD - Euro / Canadian DollarEURCHF - Euro / Swiss FrancEURGBP - Euro / British PoundEURJPY - Euro / Japanese YenEURNZD - Euro / New Zealand DollarGBPAUD - British Pound / Australian DollarGBPCAD - British Pound / Canadian DollarGBPCHF - British Pound / Swiss FrancGBPJPY - British Pound / Japanese YenGBPNZD - British Pound / New Zealand DollarNZDCAD - New Zealand Dollar / Canadian DollarNZDCHF - New Zealand Dollar / Swiss FrancNZDJPY - New Zealand Dollar / Japanese YenNZDUSD - New Zealand Dollar / US Dollar────── Commodity ──────BRENTCMDUSD - Brent Crude Oil (USD)XAGUSD - Silver (USD)XAUUSD - Gold (USD)────── US Stocks ──────AAPLUSUSD - Apple comNFLXUSUSD - Netflix IncTSLAUSUSD - TSLA.US/USD - Tesla Motors Inc────── Indices ──────DEUIDXEUR - DEU.IDX/EUR - DAX 30GBRIDXGBP - GBR.IDX/GBP - FTSE 100 (London)USA30IDXUSD - USA30.IDX/USD - Dow Jones 30USA500IDXUSD - USA500.IDX/USD - S&P 500USATECHIDXUSD - USATECH.IDX - NASDAQ 100 Technical Index────── Crypto USD ──────BTCUSD - Bitcoin / US DollarETHUSD - Ethereum / US Dollar────── Crypto USDT ──────ADAUSDT - Cardano ADAALGOUSDT - Algorand ALGOATOMUSDT - Cosmos ATOMAVAXUSDT - Avalanche AVAXBNBUSDT - Binance BNBBTCUSDT - Bitcoin BTCDOGEUSDT - Dogecoin DOGEDOTUSDT - Polkadot DOTEGLDUSDT - Ethereum Eagle EGLDETCUSDT - Ethereum Classic ETCETHUSDT - Ethereum ETHFILUSDT - Filecoin FILFTTUSDT - FTTUSDT FTTHBARUSDT - Hedera HBARICPUSDT - Internet Computer ICPLINKUSDT - Chainlink LINKLTCUSDT - Litecoin LTCLUNAUSDT - Terra LUNAMATICUSDT - Polygon MATICSHIBUSDT - Shibainu SHIBSOLUSDT - Solana SOLTRXUSDT - Tron TRXUNIUSDT - Uniswap UNIVETUSDT - VeChain VETXLMUSDT - Stellar XLMXRPUSDT - RippleNet XRP\n"
     ]
    }
   ],
   "source": [
    "select = driver.find_element(By.ID, value='select-symbol')\n",
    "\n",
    "print(select.text)"
   ]
  },
  {
   "cell_type": "code",
   "execution_count": 38,
   "id": "d9cb2359-2c1e-4f0d-b249-6f48d5fdc37c",
   "metadata": {
    "scrolled": true
   },
   "outputs": [
    {
     "name": "stdout",
     "output_type": "stream",
     "text": [
      "────── FX Major ──────\n",
      "EURUSD - Euro / US Dollar\n",
      "GBPUSD - British Pound / US Dollar\n",
      "USDCAD - US Dollar / Canadian Dollar\n",
      "USDCHF - US Dollar / Swiss Franc\n",
      "USDJPY - US Dollar / Japanese Yen\n",
      "────── FX Minor ──────\n",
      "AUDCAD - Australian Dollar / Canadian Dollar\n",
      "AUDCHF - Australian Dollar / Swiss Frank\n",
      "AUDJPY - Australian Dollar / Japanese Yen\n",
      "AUDNZD - Australian Dollar / New Zealand Dollar\n",
      "AUDUSD - Australian Dollar / US Dollar\n",
      "CADCHF - Canadian Dollar /Swiss Franc\n",
      "CADJPY - Canadian Dollar / Japanese Yen\n",
      "CHFJPY - Swiss Franc / Japanese Yen\n",
      "EURAUD - Euro / Australian Dollar\n",
      "EURCAD - Euro / Canadian Dollar\n",
      "EURCHF - Euro / Swiss Franc\n",
      "EURGBP - Euro / British Pound\n",
      "EURJPY - Euro / Japanese Yen\n",
      "EURNZD - Euro / New Zealand Dollar\n",
      "GBPAUD - British Pound / Australian Dollar\n",
      "GBPCAD - British Pound / Canadian Dollar\n",
      "GBPCHF - British Pound / Swiss Franc\n",
      "GBPJPY - British Pound / Japanese Yen\n",
      "GBPNZD - British Pound / New Zealand Dollar\n",
      "NZDCAD - New Zealand Dollar / Canadian Dollar\n",
      "NZDCHF - New Zealand Dollar / Swiss Franc\n",
      "NZDJPY - New Zealand Dollar / Japanese Yen\n",
      "NZDUSD - New Zealand Dollar / US Dollar\n",
      "────── Commodity ──────\n",
      "BRENTCMDUSD - Brent Crude Oil (USD)\n",
      "XAGUSD - Silver (USD)\n",
      "XAUUSD - Gold (USD)\n",
      "────── US Stocks ──────\n",
      "AAPLUSUSD - Apple com\n",
      "NFLXUSUSD - Netflix Inc\n",
      "TSLAUSUSD - TSLA.US/USD - Tesla Motors Inc\n",
      "────── Indices ──────\n",
      "DEUIDXEUR - DEU.IDX/EUR - DAX 30\n",
      "GBRIDXGBP - GBR.IDX/GBP - FTSE 100 (London)\n",
      "USA30IDXUSD - USA30.IDX/USD - Dow Jones 30\n",
      "USA500IDXUSD - USA500.IDX/USD - S&P 500\n",
      "USATECHIDXUSD - USATECH.IDX - NASDAQ 100 Technical Index\n",
      "────── Crypto USD ──────\n",
      "BTCUSD - Bitcoin / US Dollar\n",
      "ETHUSD - Ethereum / US Dollar\n",
      "────── Crypto USDT ──────\n",
      "ADAUSDT - Cardano ADA\n",
      "ALGOUSDT - Algorand ALGO\n",
      "ATOMUSDT - Cosmos ATOM\n",
      "AVAXUSDT - Avalanche AVAX\n",
      "BNBUSDT - Binance BNB\n",
      "BTCUSDT - Bitcoin BTC\n",
      "DOGEUSDT - Dogecoin DOGE\n",
      "DOTUSDT - Polkadot DOT\n",
      "EGLDUSDT - Ethereum Eagle EGLD\n",
      "ETCUSDT - Ethereum Classic ETC\n",
      "ETHUSDT - Ethereum ETH\n",
      "FILUSDT - Filecoin FIL\n",
      "FTTUSDT - FTTUSDT FTT\n",
      "HBARUSDT - Hedera HBAR\n",
      "ICPUSDT - Internet Computer ICP\n",
      "LINKUSDT - Chainlink LINK\n",
      "LTCUSDT - Litecoin LTC\n",
      "LUNAUSDT - Terra LUNA\n",
      "MATICUSDT - Polygon MATIC\n",
      "SHIBUSDT - Shibainu SHIB\n",
      "SOLUSDT - Solana SOL\n",
      "TRXUSDT - Tron TRX\n",
      "UNIUSDT - Uniswap UNI\n",
      "VETUSDT - VeChain VET\n",
      "XLMUSDT - Stellar XLM\n",
      "XRPUSDT - RippleNet XRP\n"
     ]
    }
   ],
   "source": [
    "# selecting all the options\n",
    "opts = select.find_elements(By.TAG_NAME, value='option')\n",
    "\n",
    "for options in opts:\n",
    "    print(options.text)"
   ]
  },
  {
   "cell_type": "markdown",
   "id": "27b29a53-14cc-43af-829d-c040497b404d",
   "metadata": {},
   "source": [
    "#### 2. Have to now "
   ]
  },
  {
   "cell_type": "markdown",
   "id": "eef5570f-cb7b-4ace-b84e-c80a0e926a89",
   "metadata": {},
   "source": [
    "#### 2. Loading data and waiting for the options"
   ]
  },
  {
   "cell_type": "code",
   "execution_count": 42,
   "id": "142fd37e-3dbc-4abf-8704-bcacb59a2168",
   "metadata": {},
   "outputs": [
    {
     "data": {
      "text/plain": [
       "'Load data'"
      ]
     },
     "execution_count": 42,
     "metadata": {},
     "output_type": "execute_result"
    }
   ],
   "source": [
    "# finding element and sanity check\n",
    "btn = driver.find_element(By.ID, value='btn-load-data')\n",
    "\n",
    "btn.text"
   ]
  },
  {
   "cell_type": "code",
   "execution_count": 52,
   "id": "a594aeb1-fdf7-4391-aae6-559a03abe4c5",
   "metadata": {},
   "outputs": [
    {
     "name": "stderr",
     "output_type": "stream",
     "text": [
      "Traceback (most recent call last):\n",
      "  File \"/var/folders/3l/5hvm3p3s76j0qjln81gwpljm0000gn/T/ipykernel_2632/3339205193.py\", line 15, in <module>\n",
      "    link = WebDriverWait(driver, 10).until(\n",
      "           ^^^^^^^^^^^^^^^^^^^^^^^^^^^^^^^^\n",
      "  File \"/Volumes/NVME/Applications/anaconda3/lib/python3.12/site-packages/selenium/webdriver/support/wait.py\", line 146, in until\n",
      "    raise TimeoutException(message, screen, stacktrace)\n",
      "selenium.common.exceptions.TimeoutException: Message: \n",
      "\n"
     ]
    }
   ],
   "source": [
    "# 1. Click the button and then wait for data to load\n",
    "btn.click()\n",
    "\n",
    "# 2. Selects specific gradularity\n",
    "selector = (By.LINK_TEXT, 'EURUSD1440.csv')\n",
    "\n",
    "# 2. Selects all 'a' tag elements in the 'td' elements\n",
    "#selector = (By.XPATH, \"//td//a\") \n",
    "\n",
    "d_store = []\n",
    "\n",
    "# Shoots a asynchronous reply to site and waits for data to load\n",
    "try:\n",
    "    # Obtains a array of all the hyperlinks \n",
    "    link = WebDriverWait(driver, 10).until(\n",
    "        EC.presence_of_element_located(selector)\n",
    "    )\n",
    "    link.click()\n",
    "except:\n",
    "    traceback.print_exc()"
   ]
  },
  {
   "cell_type": "code",
   "execution_count": 25,
   "id": "e2d4a3d6-317e-44cf-9c5d-62304c2ce819",
   "metadata": {},
   "outputs": [],
   "source": [
    "driver.close()"
   ]
  },
  {
   "cell_type": "code",
   "execution_count": null,
   "id": "f8952cc7-841c-4221-a899-43e38e59c7fd",
   "metadata": {},
   "outputs": [],
   "source": []
  }
 ],
 "metadata": {
  "kernelspec": {
   "display_name": "Python [conda env:base] *",
   "language": "python",
   "name": "conda-base-py"
  },
  "language_info": {
   "codemirror_mode": {
    "name": "ipython",
    "version": 3
   },
   "file_extension": ".py",
   "mimetype": "text/x-python",
   "name": "python",
   "nbconvert_exporter": "python",
   "pygments_lexer": "ipython3",
   "version": "3.12.7"
  }
 },
 "nbformat": 4,
 "nbformat_minor": 5
}
