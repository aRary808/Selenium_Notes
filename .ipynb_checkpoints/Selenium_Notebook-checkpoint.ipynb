{
 "cells": [
  {
   "cell_type": "markdown",
   "id": "b2582c40-4bbb-48d1-aecc-72e41ecf54c6",
   "metadata": {},
   "source": [
    "## Part 1: Setup"
   ]
  },
  {
   "cell_type": "code",
   "execution_count": 17,
   "id": "a01cba2a-2d96-4a2e-87ff-4a69761a79d5",
   "metadata": {},
   "outputs": [],
   "source": [
    "# Tutorial 1: Setup\n",
    "from selenium import webdriver as wd"
   ]
  },
  {
   "cell_type": "code",
   "execution_count": 5,
   "id": "656f6b41-0611-4dcc-97be-28ef46656b96",
   "metadata": {},
   "outputs": [],
   "source": [
    "# Obtain path and driver from library\n",
    "# Opens a new webpage that is controlled \n",
    "driver = wd.Safari()\n",
    "driver.get('https://wildcherrybazzaire.github.io/button-clicker-game/')"
   ]
  },
  {
   "cell_type": "code",
   "execution_count": 7,
   "id": "b98d47f4-8827-4b8f-9b88-3c1aac39383f",
   "metadata": {},
   "outputs": [
    {
     "name": "stdout",
     "output_type": "stream",
     "text": [
      "My Playlist\n"
     ]
    }
   ],
   "source": [
    "print(driver.title)"
   ]
  },
  {
   "cell_type": "code",
   "execution_count": 9,
   "id": "c10f089b-5526-46be-9f9c-27d0549a0327",
   "metadata": {},
   "outputs": [],
   "source": [
    "# Closes the webpage\n",
    "driver.close()\n",
    "# driver.quit() <---- Closes the browser"
   ]
  },
  {
   "cell_type": "markdown",
   "id": "91489d3a-ad0a-4a4e-91ce-933d210ff581",
   "metadata": {},
   "source": [
    "## Part 2: Interacting with the webpage"
   ]
  },
  {
   "cell_type": "code",
   "execution_count": 53,
   "id": "988cdff9-9ba8-44c1-8d68-56f4f471b364",
   "metadata": {},
   "outputs": [],
   "source": [
    "from selenium.webdriver.common.by import By\n",
    "from selenium.webdriver.common.keys import Keys\n",
    "\n",
    "import time"
   ]
  },
  {
   "cell_type": "code",
   "execution_count": 55,
   "id": "009400d7-90e9-4522-abb2-ee5e74acab55",
   "metadata": {},
   "outputs": [],
   "source": [
    "driver = wd.Safari()\n",
    "driver.get('https://wildcherrybazzaire.github.io/button-clicker-game/')"
   ]
  },
  {
   "cell_type": "code",
   "execution_count": 43,
   "id": "a3f040a4-3f48-4ee0-b240-162518ca37a3",
   "metadata": {},
   "outputs": [],
   "source": [
    "button = driver.find_element(By.ID, value='scoreButton')\n",
    "\n",
    "for i in range(20):\n",
    "    button.click() # <--- Clicks the button every one second\n",
    "    time.sleep(0.5)\n",
    "\n",
    "time.sleep(5)\n",
    "\n",
    "driver.close()"
   ]
  },
  {
   "cell_type": "markdown",
   "id": "1b6c4ce5-e3a6-4eaf-a185-0c6177a20d9c",
   "metadata": {},
   "source": [
    "**Get Entire page source**"
   ]
  },
  {
   "cell_type": "code",
   "execution_count": 57,
   "id": "8de02535-caa4-4646-af43-a2cd7eb5b3cc",
   "metadata": {
    "scrolled": true
   },
   "outputs": [
    {
     "name": "stdout",
     "output_type": "stream",
     "text": [
      "<html><head>\n",
      "    <title> Button Clicker </title>\n",
      "    <link rel=\"stylesheet\" type=\"text/css\" href=\"styles.css\">\n",
      "    <link href=\"https://fonts.googleapis.com/css?family=Encode+Sans+Condensed\" rel=\"stylesheet\">\n",
      "</head>\n",
      "\n",
      "<body>\n",
      "\n",
      "    <div id=\"scoreBox\">\n",
      "\n",
      "        <p id=\"scoreText\">0</p>\n",
      "\n",
      "    </div>\n",
      "\n",
      "    <div id=\"MainDiv\">\n",
      "\n",
      "        <div id=\"scoreButton\">\n",
      "\n",
      "            <p> Increment Me DADDY! </p>\n",
      "            <p>+1</p>\n",
      "        </div>\n",
      "\n",
      "        <div id=\"surpriseBox\">\n",
      "            <p id=\"surpriseTitle\"> Surprise text for everything divisble by ten</p>\n",
      "\n",
      "            <div id=\"surpriseContainer\">\n",
      "\n",
      "            </div>\n",
      "        </div>\n",
      "\n",
      "        <div id=\"resetButton\">\n",
      "            <p>reset</p>\n",
      "        </div>\n",
      "\n",
      "        <div id=\"resetSure\">\n",
      "            <p> Are You Sure You Want To Reset?</p>\n",
      "            <button onclick=\"Reset()\" id=\"marginEdit\"> Yes </button>\n",
      "            <button onclick=\"NoReset()\"> NO </button>\n",
      "        </div>\n",
      "\n",
      "    </div>\n",
      "    \n",
      "    <audio controls=\"\" id=\"hidden_sounds1\"> <!-- for audio -->\n",
      "        <source src=\"Secret/woomy.mp3\" type=\"audio/mpeg\">\n",
      "      Your browser does not support the audio element.\n",
      "    \n",
      "    </audio>\n",
      "\n",
      "    <audio controls=\"\" id=\"hidden_sounds2\"> <!-- for audio -->\n",
      "        <source src=\"Secret/veemo.mp3\" type=\"audio/mpeg\">\n",
      "      Your browser does not support the audio element.\n",
      "    \n",
      "    </audio>\n",
      "\n",
      "    <script src=\"app.js\"></script>\n",
      "\n",
      "\n",
      "</body></html>\n"
     ]
    }
   ],
   "source": [
    "print(driver.page_source)"
   ]
  },
  {
   "cell_type": "markdown",
   "id": "e7ac1304-7577-4671-9196-000d2c757a80",
   "metadata": {},
   "source": [
    "**Obtain elements within a container**"
   ]
  },
  {
   "cell_type": "code",
   "execution_count": 59,
   "id": "b938d0c2-7631-4e66-afa8-6a7da074401b",
   "metadata": {},
   "outputs": [
    {
     "name": "stdout",
     "output_type": "stream",
     "text": [
      "\n",
      "             Are You Sure You Want To Reset?\n",
      "             Yes \n",
      "             NO \n",
      "        \n"
     ]
    }
   ],
   "source": [
    "reset = driver.find_element(By.ID, value='resetSure')\n",
    "print(reset.text)"
   ]
  },
  {
   "cell_type": "code",
   "execution_count": null,
   "id": "501615e6-7b77-4c23-ac75-32c0a7b3e43c",
   "metadata": {},
   "outputs": [],
   "source": []
  }
 ],
 "metadata": {
  "kernelspec": {
   "display_name": "Python [conda env:base] *",
   "language": "python",
   "name": "conda-base-py"
  },
  "language_info": {
   "codemirror_mode": {
    "name": "ipython",
    "version": 3
   },
   "file_extension": ".py",
   "mimetype": "text/x-python",
   "name": "python",
   "nbconvert_exporter": "python",
   "pygments_lexer": "ipython3",
   "version": "3.12.7"
  }
 },
 "nbformat": 4,
 "nbformat_minor": 5
}
