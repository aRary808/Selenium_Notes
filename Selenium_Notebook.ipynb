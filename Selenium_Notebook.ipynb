{
 "cells": [
  {
   "cell_type": "code",
   "execution_count": 3,
   "id": "a01cba2a-2d96-4a2e-87ff-4a69761a79d5",
   "metadata": {},
   "outputs": [],
   "source": [
    "# Tutorial 1: Setup\n",
    "from selenium import webdriver as wd"
   ]
  },
  {
   "cell_type": "code",
   "execution_count": 9,
   "id": "656f6b41-0611-4dcc-97be-28ef46656b96",
   "metadata": {},
   "outputs": [],
   "source": [
    "# Obtain path and driver from library\n",
    "# Opens a new webpage that is controlled \n",
    "driver = wd.Safari()\n",
    "driver.get('https://wildcherrybazzaire.github.io/es6-playlist/')"
   ]
  },
  {
   "cell_type": "code",
   "execution_count": 10,
   "id": "b98d47f4-8827-4b8f-9b88-3c1aac39383f",
   "metadata": {},
   "outputs": [
    {
     "name": "stdout",
     "output_type": "stream",
     "text": [
      "My Playlist\n"
     ]
    }
   ],
   "source": [
    "print(driver.title)"
   ]
  },
  {
   "cell_type": "code",
   "execution_count": 13,
   "id": "c10f089b-5526-46be-9f9c-27d0549a0327",
   "metadata": {},
   "outputs": [],
   "source": [
    "# Closes the webpage\n",
    "driver.close()\n",
    "# driver.quit() <---- Closes the browser"
   ]
  },
  {
   "cell_type": "markdown",
   "id": "91489d3a-ad0a-4a4e-91ce-933d210ff581",
   "metadata": {},
   "source": [
    "## Interacting with the webpage"
   ]
  },
  {
   "cell_type": "code",
   "execution_count": null,
   "id": "a3f040a4-3f48-4ee0-b240-162518ca37a3",
   "metadata": {},
   "outputs": [],
   "source": []
  }
 ],
 "metadata": {
  "kernelspec": {
   "display_name": "Python [conda env:base] *",
   "language": "python",
   "name": "conda-base-py"
  },
  "language_info": {
   "codemirror_mode": {
    "name": "ipython",
    "version": 3
   },
   "file_extension": ".py",
   "mimetype": "text/x-python",
   "name": "python",
   "nbconvert_exporter": "python",
   "pygments_lexer": "ipython3",
   "version": "3.12.7"
  }
 },
 "nbformat": 4,
 "nbformat_minor": 5
}
